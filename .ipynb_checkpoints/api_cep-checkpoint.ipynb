{
 "cells": [
  {
   "cell_type": "code",
   "execution_count": null,
   "id": "437e1cf6",
   "metadata": {},
   "outputs": [],
   "source": [
    "import requests\n",
    "\n",
    "# Solicita ao usuário que informe o CEP\n",
    "cep = input('Informe o CEP: ')\n",
    "\n",
    "# Constrói o link de acesso à API ViaCEP\n",
    "link = f'https://viacep.com.br/ws/{cep}/json/'\n",
    "\n",
    "# Realiza a requisição GET para obter os dados do CEP\n",
    "requisicao = requests.get(link)\n",
    "\n",
    "# Verifica se a requisição foi bem-sucedida (código de resposta 200)\n",
    "if requisicao.status_code == 200:\n",
    "    # Converte os dados da resposta para um dicionário\n",
    "    dados_cep = requisicao.json()\n",
    "\n",
    "    # Extrai e exibe as informações do CEP\n",
    "    uf = dados_cep.get('uf')\n",
    "    cidade = dados_cep.get('localidade')\n",
    "    bairro = dados_cep.get('bairro')\n",
    "\n",
    "    # Exibe as informações\n",
    "    print(f'Estado (UF): {uf}')\n",
    "    print(f'Cidade: {cidade}')\n",
    "    print(f'Bairro: {bairro}')\n",
    "else:\n",
    "    print(f'Erro ao consultar o CEP: código {requisicao.status_code}')"
   ]
  }
 ],
 "metadata": {
  "kernelspec": {
   "display_name": "Python 3 (ipykernel)",
   "language": "python",
   "name": "python3"
  },
  "language_info": {
   "codemirror_mode": {
    "name": "ipython",
    "version": 3
   },
   "file_extension": ".py",
   "mimetype": "text/x-python",
   "name": "python",
   "nbconvert_exporter": "python",
   "pygments_lexer": "ipython3",
   "version": "3.9.12"
  }
 },
 "nbformat": 4,
 "nbformat_minor": 5
}
